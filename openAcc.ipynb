{
  "nbformat": 4,
  "nbformat_minor": 0,
  "metadata": {
    "colab": {
      "provenance": [],
      "gpuType": "T4"
    },
    "kernelspec": {
      "name": "python3",
      "display_name": "Python 3"
    },
    "language_info": {
      "name": "python"
    },
    "accelerator": "GPU"
  },
  "cells": [
    {
      "cell_type": "code",
      "execution_count": 14,
      "metadata": {
        "colab": {
          "base_uri": "https://localhost:8080/"
        },
        "id": "Poa5ZYKxHvMM",
        "outputId": "576a61c7-d174-4bd4-f92c-0eb19c8f225d"
      },
      "outputs": [
        {
          "output_type": "stream",
          "name": "stdout",
          "text": [
            "/content\n"
          ]
        }
      ],
      "source": [
        "!pwd"
      ]
    },
    {
      "cell_type": "code",
      "source": [
        "!gcc -fopenacc -o hello_c hello.c\n",
        "! ./hello_c"
      ],
      "metadata": {
        "colab": {
          "base_uri": "https://localhost:8080/"
        },
        "id": "jzccwnqgIKiN",
        "outputId": "59b4875a-f55a-4a91-f7b6-670ca5ad2169"
      },
      "execution_count": 22,
      "outputs": [
        {
          "output_type": "stream",
          "name": "stdout",
          "text": [
            "Hello world from OpenACC\n",
            "Number of available OpenACC devices: 1\n",
            "Type of available OpenACC devices: 2\n"
          ]
        }
      ]
    },
    {
      "cell_type": "code",
      "source": [
        "%cd /content/OpenACC-CUDA-beginners/examples/OpenACC/vector-sum/solution/c/"
      ],
      "metadata": {
        "colab": {
          "base_uri": "https://localhost:8080/"
        },
        "id": "aKpdTW9jP3mD",
        "outputId": "fed0c9c5-1b51-480d-ad63-c25c63610dc8"
      },
      "execution_count": 60,
      "outputs": [
        {
          "output_type": "stream",
          "name": "stdout",
          "text": [
            "/content/OpenACC-CUDA-beginners/examples/OpenACC/vector-sum/solution/c\n"
          ]
        }
      ]
    },
    {
      "cell_type": "code",
      "source": [
        "!gcc -fopenacc -o sum_parallel sum_parallel.c\n",
        "!./sum_parallel"
      ],
      "metadata": {
        "colab": {
          "base_uri": "https://localhost:8080/"
        },
        "id": "g46XKQ2icv0R",
        "outputId": "48f9b5d1-7267-426e-b2db-caefd019fe64"
      },
      "execution_count": 62,
      "outputs": [
        {
          "output_type": "stream",
          "name": "stdout",
          "text": [
            "Reduction sum: 1.2020569031119110\n"
          ]
        }
      ]
    },
    {
      "cell_type": "code",
      "source": [
        "!gcc -fopenacc doubleloop.c -o doubleloop\n",
        "! ./doubleloop"
      ],
      "metadata": {
        "colab": {
          "base_uri": "https://localhost:8080/"
        },
        "id": "plNrE7wEZCNl",
        "outputId": "2a013eb4-8a2f-4fc5-d830-25b8c26220b8"
      },
      "execution_count": 55,
      "outputs": [
        {
          "output_type": "stream",
          "name": "stdout",
          "text": [
            "\u001b[01m\u001b[Kcc1:\u001b[m\u001b[K \u001b[01;31m\u001b[Kfatal error: \u001b[m\u001b[Kdoubleloop.c: No such file or directory\n",
            "compilation terminated.\n",
            "/bin/bash: line 1: ./doubleloop: No such file or directory\n"
          ]
        }
      ]
    },
    {
      "cell_type": "code",
      "source": [
        "%cd /content/OpenACC-CUDA-beginners/examples/OpenACC/jacobi/c"
      ],
      "metadata": {
        "colab": {
          "base_uri": "https://localhost:8080/"
        },
        "id": "-BlFyuk-anNr",
        "outputId": "a5e06687-91cb-4fd4-be56-33ebd11ba820"
      },
      "execution_count": 51,
      "outputs": [
        {
          "output_type": "stream",
          "name": "stdout",
          "text": [
            "/content/OpenACC-CUDA-beginners/examples/OpenACC/jacobi/c\n"
          ]
        }
      ]
    },
    {
      "cell_type": "code",
      "source": [
        "!gcc -fopenacc jacobi.c -o jacobi\n",
        "!./jacobi"
      ],
      "metadata": {
        "colab": {
          "base_uri": "https://localhost:8080/"
        },
        "id": "1xKNqOKCasZ4",
        "outputId": "d5d06807-2c0c-4cf8-e6bd-610df0098957"
      },
      "execution_count": 53,
      "outputs": [
        {
          "output_type": "stream",
          "name": "stdout",
          "text": [
            "\u001b[01m\u001b[Kjacobi.c:\u001b[m\u001b[K In function ‘\u001b[01m\u001b[Kusage\u001b[m\u001b[K’:\n",
            "\u001b[01m\u001b[Kjacobi.c:82:6:\u001b[m\u001b[K \u001b[01;35m\u001b[Kwarning: \u001b[m\u001b[Ktype of ‘\u001b[01m\u001b[Kpname\u001b[m\u001b[K’ defaults to ‘\u001b[01m\u001b[Kint\u001b[m\u001b[K’ [\u001b[01;35m\u001b[K\u001b]8;;https://gcc.gnu.org/onlinedocs/gcc/Warning-Options.html#index-Wimplicit-int\u0007-Wimplicit-int\u001b]8;;\u0007\u001b[m\u001b[K]\n",
            "   82 | void \u001b[01;35m\u001b[Kusage\u001b[m\u001b[K(pname)\n",
            "      |      \u001b[01;35m\u001b[K^~~~~\u001b[m\u001b[K\n",
            "\u001b[01m\u001b[Kjacobi.c:84:21:\u001b[m\u001b[K \u001b[01;35m\u001b[Kwarning: \u001b[m\u001b[Kformat ‘\u001b[01m\u001b[K%s\u001b[m\u001b[K’ expects argument of type ‘\u001b[01m\u001b[Kchar *\u001b[m\u001b[K’, but argument 2 has type ‘\u001b[01m\u001b[Kint\u001b[m\u001b[K’ [\u001b[01;35m\u001b[K\u001b]8;;https://gcc.gnu.org/onlinedocs/gcc/Warning-Options.html#index-Wformat=\u0007-Wformat=\u001b]8;;\u0007\u001b[m\u001b[K]\n",
            "   84 |     printf(\"Usage: \u001b[01;35m\u001b[K%s\u001b[m\u001b[K [nx] [ny]\", \u001b[32m\u001b[Kpname\u001b[m\u001b[K);\n",
            "      |                    \u001b[01;35m\u001b[K~^\u001b[m\u001b[K             \u001b[32m\u001b[K~~~~~\u001b[m\u001b[K\n",
            "      |                     \u001b[01;35m\u001b[K|\u001b[m\u001b[K             \u001b[32m\u001b[K|\u001b[m\u001b[K\n",
            "      |                     \u001b[01;35m\u001b[Kchar *\u001b[m\u001b[K        \u001b[32m\u001b[Kint\u001b[m\u001b[K\n",
            "      |                    \u001b[32m\u001b[K%d\u001b[m\u001b[K\n",
            "/usr/bin/ld: /tmp/ccSff7Ub.o: in function `update':\n",
            "jacobi.c:(.text+0x2e5): undefined reference to `fmaxf'\n",
            "collect2: error: ld returned 1 exit status\n",
            "/bin/bash: line 1: ./jacobi: No such file or directory\n"
          ]
        }
      ]
    }
  ]
}